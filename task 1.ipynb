{
 "cells": [
  {
   "cell_type": "code",
   "execution_count": 1,
   "id": "ef6b1574",
   "metadata": {},
   "outputs": [],
   "source": [
    "s=\"this is My First Python programming class and iam learNing python string and its function\""
   ]
  },
  {
   "cell_type": "code",
   "execution_count": 2,
   "id": "cfa45382",
   "metadata": {},
   "outputs": [
    {
     "data": {
      "text/plain": [
       "'h   r tnrrmglsni ai tntna sutn'"
      ]
     },
     "execution_count": 2,
     "metadata": {},
     "output_type": "execute_result"
    }
   ],
   "source": [
    "s[1:300:3]    ##ques 1"
   ]
  },
  {
   "cell_type": "code",
   "execution_count": 3,
   "id": "39490a65",
   "metadata": {},
   "outputs": [
    {
     "data": {
      "text/plain": [
       "'noitcnuf sti dna gnirts nohtyp gniNrael mai dna ssalc gnimmargorp nohtyP tsriF yM si siht'"
      ]
     },
     "execution_count": 3,
     "metadata": {},
     "output_type": "execute_result"
    }
   ],
   "source": [
    "s[::-1]        ##ques 2"
   ]
  },
  {
   "cell_type": "code",
   "execution_count": 8,
   "id": "db295cac",
   "metadata": {},
   "outputs": [
    {
     "data": {
      "text/plain": [
       "'THIS IS MY FIRST PYTHON PROGRAMMING CLASS AND IAM LEARNING PYTHON STRING AND ITS FUNCTION'"
      ]
     },
     "execution_count": 8,
     "metadata": {},
     "output_type": "execute_result"
    }
   ],
   "source": [
    "s.upper()"
   ]
  },
  {
   "cell_type": "code",
   "execution_count": 10,
   "id": "2ee50567",
   "metadata": {},
   "outputs": [],
   "source": [
    "s=s.upper()"
   ]
  },
  {
   "cell_type": "code",
   "execution_count": 11,
   "id": "974c2133",
   "metadata": {},
   "outputs": [
    {
     "data": {
      "text/plain": [
       "'THIS IS MY FIRST PYTHON PROGRAMMING CLASS AND IAM LEARNING PYTHON STRING AND ITS FUNCTION'"
      ]
     },
     "execution_count": 11,
     "metadata": {},
     "output_type": "execute_result"
    }
   ],
   "source": [
    "s"
   ]
  },
  {
   "cell_type": "code",
   "execution_count": 12,
   "id": "e18be766",
   "metadata": {},
   "outputs": [
    {
     "data": {
      "text/plain": [
       "['THIS',\n",
       " 'IS',\n",
       " 'MY',\n",
       " 'FIRST',\n",
       " 'PYTHON',\n",
       " 'PROGRAMMING',\n",
       " 'CLASS',\n",
       " 'AND',\n",
       " 'IAM',\n",
       " 'LEARNING',\n",
       " 'PYTHON',\n",
       " 'STRING',\n",
       " 'AND',\n",
       " 'ITS',\n",
       " 'FUNCTION']"
      ]
     },
     "execution_count": 12,
     "metadata": {},
     "output_type": "execute_result"
    }
   ],
   "source": [
    "s.split(' ')    ##ques 3"
   ]
  },
  {
   "cell_type": "code",
   "execution_count": 13,
   "id": "cc3c97b6",
   "metadata": {},
   "outputs": [
    {
     "data": {
      "text/plain": [
       "'this is my first python programming class and iam learning python string and its function'"
      ]
     },
     "execution_count": 13,
     "metadata": {},
     "output_type": "execute_result"
    }
   ],
   "source": [
    "s.lower()    ##ques 4"
   ]
  },
  {
   "cell_type": "code",
   "execution_count": 14,
   "id": "6774be78",
   "metadata": {},
   "outputs": [
    {
     "data": {
      "text/plain": [
       "'This is my first python programming class and iam learning python string and its function'"
      ]
     },
     "execution_count": 14,
     "metadata": {},
     "output_type": "execute_result"
    }
   ],
   "source": [
    "s.capitalize() ##ques 5"
   ]
  },
  {
   "cell_type": "code",
   "execution_count": 15,
   "id": "08945ca3",
   "metadata": {},
   "outputs": [
    {
     "data": {
      "text/plain": [
       "True"
      ]
     },
     "execution_count": 15,
     "metadata": {},
     "output_type": "execute_result"
    }
   ],
   "source": [
    "a='abcde1234'\n",
    "a.isalnum()"
   ]
  },
  {
   "cell_type": "code",
   "execution_count": 17,
   "id": "2c2d3f42",
   "metadata": {},
   "outputs": [
    {
     "data": {
      "text/plain": [
       "True"
      ]
     },
     "execution_count": 17,
     "metadata": {},
     "output_type": "execute_result"
    }
   ],
   "source": [
    "b='123'\n",
    "b.isalnum()"
   ]
  },
  {
   "cell_type": "code",
   "execution_count": 19,
   "id": "cbc62e15",
   "metadata": {},
   "outputs": [
    {
     "data": {
      "text/plain": [
       "True"
      ]
     },
     "execution_count": 19,
     "metadata": {},
     "output_type": "execute_result"
    }
   ],
   "source": [
    "c='abcde'\n",
    "c.isalnum()"
   ]
  },
  {
   "cell_type": "code",
   "execution_count": 20,
   "id": "06ccdb73",
   "metadata": {},
   "outputs": [
    {
     "data": {
      "text/plain": [
       "False"
      ]
     },
     "execution_count": 20,
     "metadata": {},
     "output_type": "execute_result"
    }
   ],
   "source": [
    "b.isalpha()"
   ]
  },
  {
   "cell_type": "code",
   "execution_count": 21,
   "id": "1de8de9f",
   "metadata": {},
   "outputs": [
    {
     "data": {
      "text/plain": [
       "True"
      ]
     },
     "execution_count": 21,
     "metadata": {},
     "output_type": "execute_result"
    }
   ],
   "source": [
    "c.isalpha()"
   ]
  },
  {
   "cell_type": "markdown",
   "id": "bcefc120",
   "metadata": {},
   "source": [
    "# ques 6) \"isalnum\" basically shows a string has either number or letter or combination of both where as \"isalpha\" basically holds true for if the string has only letter in it."
   ]
  },
  {
   "cell_type": "code",
   "execution_count": 38,
   "id": "9b92f2a9",
   "metadata": {},
   "outputs": [
    {
     "data": {
      "text/plain": [
       "'subhodwip       chatterjee'"
      ]
     },
     "execution_count": 38,
     "metadata": {},
     "output_type": "execute_result"
    }
   ],
   "source": [
    "d='subhodwip\\tchatterjee'\n",
    "d.expandtabs()"
   ]
  },
  {
   "cell_type": "markdown",
   "id": "3498ba86",
   "metadata": {},
   "source": [
    "# ques7)EXPANDTABS:it basically enter a space between letters or words in a  string."
   ]
  },
  {
   "cell_type": "code",
   "execution_count": 39,
   "id": "e5ae731b",
   "metadata": {},
   "outputs": [],
   "source": [
    "e=\"          subhodwip        \""
   ]
  },
  {
   "cell_type": "code",
   "execution_count": 40,
   "id": "b4db219e",
   "metadata": {},
   "outputs": [
    {
     "data": {
      "text/plain": [
       "'          subhodwip        '"
      ]
     },
     "execution_count": 40,
     "metadata": {},
     "output_type": "execute_result"
    }
   ],
   "source": [
    "e"
   ]
  },
  {
   "cell_type": "code",
   "execution_count": 41,
   "id": "85c6d210",
   "metadata": {},
   "outputs": [
    {
     "data": {
      "text/plain": [
       "'subhodwip'"
      ]
     },
     "execution_count": 41,
     "metadata": {},
     "output_type": "execute_result"
    }
   ],
   "source": [
    "e.strip()"
   ]
  },
  {
   "cell_type": "code",
   "execution_count": 42,
   "id": "8f16295b",
   "metadata": {},
   "outputs": [
    {
     "data": {
      "text/plain": [
       "'subhodwip        '"
      ]
     },
     "execution_count": 42,
     "metadata": {},
     "output_type": "execute_result"
    }
   ],
   "source": [
    "e.lstrip()"
   ]
  },
  {
   "cell_type": "code",
   "execution_count": 43,
   "id": "6ff57691",
   "metadata": {},
   "outputs": [
    {
     "data": {
      "text/plain": [
       "'          subhodwip'"
      ]
     },
     "execution_count": 43,
     "metadata": {},
     "output_type": "execute_result"
    }
   ],
   "source": [
    "e.rstrip()         ## ques 8"
   ]
  },
  {
   "cell_type": "code",
   "execution_count": 45,
   "id": "cfad3b8e",
   "metadata": {},
   "outputs": [
    {
     "data": {
      "text/plain": [
       "'sudhansu'"
      ]
     },
     "execution_count": 45,
     "metadata": {},
     "output_type": "execute_result"
    }
   ],
   "source": [
    "f=\"sudhansu\"\n",
    "f"
   ]
  },
  {
   "cell_type": "code",
   "execution_count": 48,
   "id": "cabf1208",
   "metadata": {},
   "outputs": [
    {
     "data": {
      "text/plain": [
       "'pudhanpu'"
      ]
     },
     "execution_count": 48,
     "metadata": {},
     "output_type": "execute_result"
    }
   ],
   "source": [
    "f.replace('s','p') ##9"
   ]
  },
  {
   "cell_type": "code",
   "execution_count": 49,
   "id": "235f15fe",
   "metadata": {},
   "outputs": [
    {
     "data": {
      "text/plain": [
       "'ineuron changes my life'"
      ]
     },
     "execution_count": 49,
     "metadata": {},
     "output_type": "execute_result"
    }
   ],
   "source": [
    "g=\"ineuron changes my life\"\n",
    "g"
   ]
  },
  {
   "cell_type": "code",
   "execution_count": 56,
   "id": "2e108505",
   "metadata": {},
   "outputs": [
    {
     "data": {
      "text/plain": [
       "'   ineuron changes my life    '"
      ]
     },
     "execution_count": 56,
     "metadata": {},
     "output_type": "execute_result"
    }
   ],
   "source": [
    "g.center(30)"
   ]
  },
  {
   "cell_type": "markdown",
   "id": "5be83ab7",
   "metadata": {},
   "source": [
    "# ques 10) centre:it basically find the center position for our string no matter whatever space we are assiging for the pirticular string..."
   ]
  },
  {
   "cell_type": "markdown",
   "id": "75f9a4aa",
   "metadata": {},
   "source": [
    "ques 11) interpreter basically translate one statement one by one into machhine language,where as compiler scans the entire program and then translate into the machine language."
   ]
  },
  {
   "cell_type": "markdown",
   "id": "5b28a3b6",
   "metadata": {},
   "source": [
    "ques 12) python is compiled interpreted language.we write source code in python,python atfirst compile the code using python compiler,compiler converts the code into byte code but computer  does not understand bytecode.but there is an interpreter(pvm) in python which converts the byte code into machine code."
   ]
  },
  {
   "cell_type": "markdown",
   "id": "d64d4667",
   "metadata": {},
   "source": [
    "ques 13) 1)It is very easy to understand python language\n",
    "          2) we should learn it beacause of its large developer base.\n",
    "          3)it is used for developing website,data analysis ,data visualisation"
   ]
  }
 ],
 "metadata": {
  "kernelspec": {
   "display_name": "Python 3 (ipykernel)",
   "language": "python",
   "name": "python3"
  },
  "language_info": {
   "codemirror_mode": {
    "name": "ipython",
    "version": 3
   },
   "file_extension": ".py",
   "mimetype": "text/x-python",
   "name": "python",
   "nbconvert_exporter": "python",
   "pygments_lexer": "ipython3",
   "version": "3.9.12"
  }
 },
 "nbformat": 4,
 "nbformat_minor": 5
}
